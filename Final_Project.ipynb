{
 "cells": [
  {
   "cell_type": "code",
   "execution_count": 11,
   "id": "b5444682-9767-410a-973e-761b6334512c",
   "metadata": {},
   "outputs": [],
   "source": [
    "import pandas as pd\n",
    "data = pd.read_csv(\"coffee_shop_revenue.csv\")"
   ]
  },
  {
   "cell_type": "code",
   "execution_count": 12,
   "id": "ef089a1d-45d2-466e-929b-a2b8b1614926",
   "metadata": {},
   "outputs": [
    {
     "data": {
      "text/html": [
       "<div>\n",
       "<style scoped>\n",
       "    .dataframe tbody tr th:only-of-type {\n",
       "        vertical-align: middle;\n",
       "    }\n",
       "\n",
       "    .dataframe tbody tr th {\n",
       "        vertical-align: top;\n",
       "    }\n",
       "\n",
       "    .dataframe thead th {\n",
       "        text-align: right;\n",
       "    }\n",
       "</style>\n",
       "<table border=\"1\" class=\"dataframe\">\n",
       "  <thead>\n",
       "    <tr style=\"text-align: right;\">\n",
       "      <th></th>\n",
       "      <th>Number_of_Customers_Per_Day</th>\n",
       "      <th>Average_Order_Value</th>\n",
       "      <th>Operating_Hours_Per_Day</th>\n",
       "      <th>Number_of_Employees</th>\n",
       "      <th>Marketing_Spend_Per_Day</th>\n",
       "      <th>Location_Foot_Traffic</th>\n",
       "      <th>Daily_Revenue</th>\n",
       "    </tr>\n",
       "  </thead>\n",
       "  <tbody>\n",
       "    <tr>\n",
       "      <th>0</th>\n",
       "      <td>152</td>\n",
       "      <td>6.74</td>\n",
       "      <td>14</td>\n",
       "      <td>4</td>\n",
       "      <td>106.62</td>\n",
       "      <td>97</td>\n",
       "      <td>1547.81</td>\n",
       "    </tr>\n",
       "    <tr>\n",
       "      <th>1</th>\n",
       "      <td>485</td>\n",
       "      <td>4.50</td>\n",
       "      <td>12</td>\n",
       "      <td>8</td>\n",
       "      <td>57.83</td>\n",
       "      <td>744</td>\n",
       "      <td>2084.68</td>\n",
       "    </tr>\n",
       "    <tr>\n",
       "      <th>2</th>\n",
       "      <td>398</td>\n",
       "      <td>9.09</td>\n",
       "      <td>6</td>\n",
       "      <td>6</td>\n",
       "      <td>91.76</td>\n",
       "      <td>636</td>\n",
       "      <td>3118.39</td>\n",
       "    </tr>\n",
       "    <tr>\n",
       "      <th>3</th>\n",
       "      <td>320</td>\n",
       "      <td>8.48</td>\n",
       "      <td>17</td>\n",
       "      <td>4</td>\n",
       "      <td>462.63</td>\n",
       "      <td>770</td>\n",
       "      <td>2912.20</td>\n",
       "    </tr>\n",
       "    <tr>\n",
       "      <th>4</th>\n",
       "      <td>156</td>\n",
       "      <td>7.44</td>\n",
       "      <td>17</td>\n",
       "      <td>2</td>\n",
       "      <td>412.52</td>\n",
       "      <td>232</td>\n",
       "      <td>1663.42</td>\n",
       "    </tr>\n",
       "  </tbody>\n",
       "</table>\n",
       "</div>"
      ],
      "text/plain": [
       "   Number_of_Customers_Per_Day  Average_Order_Value  Operating_Hours_Per_Day  \\\n",
       "0                          152                 6.74                       14   \n",
       "1                          485                 4.50                       12   \n",
       "2                          398                 9.09                        6   \n",
       "3                          320                 8.48                       17   \n",
       "4                          156                 7.44                       17   \n",
       "\n",
       "   Number_of_Employees  Marketing_Spend_Per_Day  Location_Foot_Traffic  \\\n",
       "0                    4                   106.62                     97   \n",
       "1                    8                    57.83                    744   \n",
       "2                    6                    91.76                    636   \n",
       "3                    4                   462.63                    770   \n",
       "4                    2                   412.52                    232   \n",
       "\n",
       "   Daily_Revenue  \n",
       "0        1547.81  \n",
       "1        2084.68  \n",
       "2        3118.39  \n",
       "3        2912.20  \n",
       "4        1663.42  "
      ]
     },
     "execution_count": 12,
     "metadata": {},
     "output_type": "execute_result"
    }
   ],
   "source": [
    "data.head()"
   ]
  },
  {
   "cell_type": "code",
   "execution_count": 13,
   "id": "4a406b9c-b666-47be-becd-b501017e2f17",
   "metadata": {},
   "outputs": [
    {
     "name": "stdout",
     "output_type": "stream",
     "text": [
      "Number_of_Customers_Per_Day    0\n",
      "Average_Order_Value            0\n",
      "Operating_Hours_Per_Day        0\n",
      "Number_of_Employees            0\n",
      "Marketing_Spend_Per_Day        0\n",
      "Location_Foot_Traffic          0\n",
      "Daily_Revenue                  0\n",
      "dtype: int64\n"
     ]
    }
   ],
   "source": [
    "print(data.isnull().sum())"
   ]
  },
  {
   "cell_type": "code",
   "execution_count": 14,
   "id": "93f6a4b3-e2e4-4ca6-a75d-9e89c4d3a128",
   "metadata": {},
   "outputs": [
    {
     "name": "stdout",
     "output_type": "stream",
     "text": [
      "0\n"
     ]
    }
   ],
   "source": [
    "print(data.duplicated().sum())"
   ]
  },
  {
   "cell_type": "code",
   "execution_count": 15,
   "id": "bc4c549d-adf5-4ac6-8362-cdc937d38a8f",
   "metadata": {},
   "outputs": [
    {
     "data": {
      "text/plain": [
       "2000"
      ]
     },
     "execution_count": 15,
     "metadata": {},
     "output_type": "execute_result"
    }
   ],
   "source": [
    "len(data)"
   ]
  },
  {
   "cell_type": "code",
   "execution_count": 16,
   "id": "33c946d7-31e7-4d78-9972-32ee291fa536",
   "metadata": {},
   "outputs": [
    {
     "name": "stdout",
     "output_type": "stream",
     "text": [
      "<class 'pandas.core.frame.DataFrame'>\n",
      "RangeIndex: 2000 entries, 0 to 1999\n",
      "Data columns (total 7 columns):\n",
      " #   Column                       Non-Null Count  Dtype  \n",
      "---  ------                       --------------  -----  \n",
      " 0   Number_of_Customers_Per_Day  2000 non-null   int64  \n",
      " 1   Average_Order_Value          2000 non-null   float64\n",
      " 2   Operating_Hours_Per_Day      2000 non-null   int64  \n",
      " 3   Number_of_Employees          2000 non-null   int64  \n",
      " 4   Marketing_Spend_Per_Day      2000 non-null   float64\n",
      " 5   Location_Foot_Traffic        2000 non-null   int64  \n",
      " 6   Daily_Revenue                2000 non-null   float64\n",
      "dtypes: float64(3), int64(4)\n",
      "memory usage: 109.5 KB\n"
     ]
    }
   ],
   "source": [
    "data.info()"
   ]
  },
  {
   "cell_type": "code",
   "execution_count": 17,
   "id": "3d4cbd49-8b6c-4e98-939e-2e6f4a36034a",
   "metadata": {},
   "outputs": [
    {
     "name": "stdout",
     "output_type": "stream",
     "text": [
      "       Number_of_Customers_Per_Day  Average_Order_Value  \\\n",
      "count                  2000.000000          2000.000000   \n",
      "mean                    274.296000             6.261215   \n",
      "std                     129.441933             2.175832   \n",
      "min                      50.000000             2.500000   \n",
      "25%                     164.000000             4.410000   \n",
      "50%                     275.000000             6.300000   \n",
      "75%                     386.000000             8.120000   \n",
      "max                     499.000000            10.000000   \n",
      "\n",
      "       Operating_Hours_Per_Day  Number_of_Employees  Marketing_Spend_Per_Day  \\\n",
      "count              2000.000000          2000.000000              2000.000000   \n",
      "mean                 11.667000             7.947000               252.614160   \n",
      "std                   3.438608             3.742218               141.136004   \n",
      "min                   6.000000             2.000000                10.120000   \n",
      "25%                   9.000000             5.000000               130.125000   \n",
      "50%                  12.000000             8.000000               250.995000   \n",
      "75%                  15.000000            11.000000               375.352500   \n",
      "max                  17.000000            14.000000               499.740000   \n",
      "\n",
      "       Location_Foot_Traffic  Daily_Revenue  \n",
      "count            2000.000000    2000.000000  \n",
      "mean              534.893500    1917.325940  \n",
      "std               271.662295     976.202746  \n",
      "min                50.000000     -58.950000  \n",
      "25%               302.000000    1140.085000  \n",
      "50%               540.000000    1770.775000  \n",
      "75%               767.000000    2530.455000  \n",
      "max               999.000000    5114.600000  \n"
     ]
    }
   ],
   "source": [
    "print(data.describe(include='all'))"
   ]
  },
  {
   "cell_type": "code",
   "execution_count": null,
   "id": "a57b2f9f-d6a1-4b2e-8e6b-136c4e1293f1",
   "metadata": {},
   "outputs": [],
   "source": []
  }
 ],
 "metadata": {
  "kernelspec": {
   "display_name": "Python 3 (ipykernel)",
   "language": "python",
   "name": "python3"
  },
  "language_info": {
   "codemirror_mode": {
    "name": "ipython",
    "version": 3
   },
   "file_extension": ".py",
   "mimetype": "text/x-python",
   "name": "python",
   "nbconvert_exporter": "python",
   "pygments_lexer": "ipython3",
   "version": "3.12.4"
  }
 },
 "nbformat": 4,
 "nbformat_minor": 5
}
